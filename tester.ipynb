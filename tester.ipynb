{
 "cells": [
  {
   "cell_type": "code",
   "execution_count": 1,
   "metadata": {},
   "outputs": [],
   "source": [
    "import numpy as np\n",
    "import pandas as pd"
   ]
  },
  {
   "cell_type": "code",
   "execution_count": null,
   "metadata": {},
   "outputs": [],
   "source": [
    "# {Climate, Sightseeing, Environment}"
   ]
  },
  {
   "cell_type": "code",
   "execution_count": 2,
   "metadata": {},
   "outputs": [
    {
     "data": {
      "text/plain": [
       "array([[1., 1., 1.],\n",
       "       [1., 1., 1.],\n",
       "       [1., 1., 1.]])"
      ]
     },
     "execution_count": 2,
     "metadata": {},
     "output_type": "execute_result"
    }
   ],
   "source": [
    "# Number of options\n",
    "n = 3\n",
    "# Creating default matrix of ones\n",
    "A = np.ones([n,n])\n",
    "A"
   ]
  },
  {
   "cell_type": "code",
   "execution_count": 3,
   "metadata": {},
   "outputs": [],
   "source": [
    "# Running a for loop to take input from user and populate the upper triangular elements\n",
    "for i in range(0,n):\n",
    "    for j in range(0,n):\n",
    "         if i<j:\n",
    "             aij = input('How important is option{} over option{} ?: '.format(i,j))\n",
    "             A[i,j] = float(aij) #Upper triangular elements\n",
    "             A[j,i] = 1/float(aij) #Lower triangular elements"
   ]
  },
  {
   "cell_type": "code",
   "execution_count": 4,
   "metadata": {},
   "outputs": [],
   "source": [
    "e = np.linalg.eig(A)[1][:,0]\n",
    "p = e/e.sum()"
   ]
  },
  {
   "cell_type": "code",
   "execution_count": null,
   "metadata": {},
   "outputs": [],
   "source": [
    "def pairwise_matrix(n):\n",
    "A = np.ones([n,n])\n",
    "    for i in range(0,n):\n",
    "        for j in range(0,n):\n",
    "            if i<j:\n",
    "                aij = input('How important is option{} over option{} ?: '.format(i,j))\n",
    "                A[i,j] = float(aij)\n",
    "                A[j,i] = 1/float(aij)\n",
    "#Computing the priority vector \n",
    "    eig_val = np.linalg.eig(A)[0].max()\n",
    "    eig_vec = np.linalg.eig(A)[1][:,0]\n",
    "    p = eig_vec/eig_vec.sum()\n",
    "    return p, eig_val"
   ]
  },
  {
   "cell_type": "code",
   "execution_count": null,
   "metadata": {},
   "outputs": [],
   "source": [
    "['A', 'C', 'A', 'A', 'C', 'D', 'B', 'C', 'E', 'D']\n",
    "[8, 6, 1, 1, 4, 6, 1, 2, 9, 7]"
   ]
  },
  {
   "cell_type": "code",
   "execution_count": 179,
   "metadata": {},
   "outputs": [
    {
     "name": "stdout",
     "output_type": "stream",
     "text": [
      "[['Price', 'Price', 'Price'], ['HDD', 'RAM'], ['HDD']]\n",
      "[[5, 4, 7], [2, 3], [3]]\n"
     ]
    }
   ],
   "source": [
    "kriteria_inputs = ['Price', 'RAM', 'HDD', 'Weight']\n",
    "pref_kriteria_inputs = ['Price', 'Price', 'Price', 'HDD', 'RAM', 'HDD']\n",
    "valpref_kriteria_inputs = [5, 4, 7, 2, 3, 3]\n",
    "\n",
    "start_index = 0\n",
    "amount_kriteria = 4\n",
    "tot = int((amount_kriteria*(amount_kriteria+1))/2)\n",
    "pref_krit_split = []\n",
    "valpref_krit_split = []\n",
    "\n",
    "for i in range(amount_kriteria-1, 0, -1):\n",
    "    sublist1 = pref_kriteria_inputs[start_index:start_index + i]\n",
    "    sublist2 = valpref_kriteria_inputs[start_index:start_index + i]\n",
    "    pref_krit_split.append(sublist1)\n",
    "    valpref_krit_split.append(sublist2)\n",
    "    start_index += i\n",
    "\n",
    "print(pref_krit_split)\n",
    "print(valpref_krit_split)"
   ]
  },
  {
   "cell_type": "code",
   "execution_count": 183,
   "metadata": {},
   "outputs": [
    {
     "data": {
      "text/plain": [
       "'Price'"
      ]
     },
     "execution_count": 183,
     "metadata": {},
     "output_type": "execute_result"
    }
   ],
   "source": [
    "kriteria_inputs[0]"
   ]
  },
  {
   "cell_type": "code",
   "execution_count": 181,
   "metadata": {},
   "outputs": [
    {
     "name": "stdout",
     "output_type": "stream",
     "text": [
      "FLIP\n",
      "FLIP\n",
      "FLIP\n",
      "FLIP\n",
      "FLIP\n",
      "FLIP\n"
     ]
    }
   ],
   "source": [
    "matrix = np.zeros((amount_kriteria, amount_kriteria))\n",
    "np.fill_diagonal(matrix, 1)\n",
    "for row in range(len(matrix)-1):\n",
    "    check_count = 0\n",
    "    check_len = len(pref_krit_split[row])\n",
    "\n",
    "    for ele in range(row+1, len(matrix)):\n",
    "        if pref_krit_split[row][check_count] == kriteria_inputs[row]:\n",
    "            print('DEF')\n",
    "            matrix[row][ele] = valpref_krit_split[row][check_count]\n",
    "        else:\n",
    "            print('FLIP')\n",
    "            matrix[ele][row] = valpref_krit_split[row][check_count]\n",
    "        check_count += 1\n",
    "        if check_count == check_len: break"
   ]
  },
  {
   "cell_type": "code",
   "execution_count": 177,
   "metadata": {},
   "outputs": [
    {
     "data": {
      "text/plain": [
       "array([[1., 0., 0., 0.],\n",
       "       [5., 1., 0., 0.],\n",
       "       [4., 2., 1., 0.],\n",
       "       [7., 3., 3., 1.]])"
      ]
     },
     "execution_count": 177,
     "metadata": {},
     "output_type": "execute_result"
    }
   ],
   "source": [
    "matrix"
   ]
  },
  {
   "cell_type": "code",
   "execution_count": 178,
   "metadata": {},
   "outputs": [],
   "source": [
    "for row in range(len(matrix)):\n",
    "    for ele in range(len(matrix)):\n",
    "        if matrix[row][ele] == 0:\n",
    "            matrix[row][ele] = 1/matrix[ele][row]"
   ]
  },
  {
   "cell_type": "code",
   "execution_count": 169,
   "metadata": {},
   "outputs": [
    {
     "data": {
      "text/plain": [
       "array([[1.        , 5.        , 4.        , 7.        ],\n",
       "       [0.2       , 1.        , 0.5       , 3.        ],\n",
       "       [0.25      , 2.        , 1.        , 3.        ],\n",
       "       [0.14285714, 0.33333333, 0.33333333, 1.        ]])"
      ]
     },
     "execution_count": 169,
     "metadata": {},
     "output_type": "execute_result"
    }
   ],
   "source": [
    "matrix"
   ]
  },
  {
   "cell_type": "code",
   "execution_count": 170,
   "metadata": {},
   "outputs": [
    {
     "data": {
      "text/plain": [
       "array([[0.63, 0.13, 0.16, 0.09],\n",
       "       [0.6 , 0.12, 0.24, 0.04],\n",
       "       [0.69, 0.09, 0.17, 0.06],\n",
       "       [0.5 , 0.21, 0.21, 0.07]])"
      ]
     },
     "execution_count": 170,
     "metadata": {},
     "output_type": "execute_result"
    }
   ],
   "source": [
    "transposed_matrix = matrix.copy()\n",
    "transposed_matrix = transposed_matrix.transpose()\n",
    "for row in range(len(transposed_matrix)):\n",
    "    row_sum = sum(transposed_matrix[row])\n",
    "    for ele in range(len(transposed_matrix)):\n",
    "        transposed_matrix[row][ele] = round(transposed_matrix[row][ele] / row_sum, 2)\n",
    "transposed_matrix"
   ]
  },
  {
   "cell_type": "code",
   "execution_count": 171,
   "metadata": {},
   "outputs": [
    {
     "data": {
      "text/plain": [
       "array([[0.63, 0.6 , 0.69, 0.5 ],\n",
       "       [0.13, 0.12, 0.09, 0.21],\n",
       "       [0.16, 0.24, 0.17, 0.21],\n",
       "       [0.09, 0.04, 0.06, 0.07]])"
      ]
     },
     "execution_count": 171,
     "metadata": {},
     "output_type": "execute_result"
    }
   ],
   "source": [
    "norm_matrix = transposed_matrix.copy().transpose()\n",
    "norm_matrix"
   ]
  },
  {
   "cell_type": "code",
   "execution_count": 172,
   "metadata": {},
   "outputs": [
    {
     "data": {
      "text/plain": [
       "[0.6, 0.14, 0.2, 0.06]"
      ]
     },
     "execution_count": 172,
     "metadata": {},
     "output_type": "execute_result"
    }
   ],
   "source": [
    "criteria_weight = [round(sum(row)/len(row), 2) for row in norm_matrix]\n",
    "criteria_weight"
   ]
  },
  {
   "cell_type": "code",
   "execution_count": 145,
   "metadata": {},
   "outputs": [],
   "source": [
    "rand_idx_dict ={3: 0.58,\n",
    "                4: 0.9,\n",
    "                5: 1.12,\n",
    "                6: 1.24,\n",
    "                7: 1.32,\n",
    "                8: 1.41,\n",
    "                9: 1.45,\n",
    "                10: 1.49,\n",
    "                11: 1.51,\n",
    "                12: 1.48,\n",
    "                13: 1.56,\n",
    "                14: 1.57,\n",
    "                15: 1.58}"
   ]
  },
  {
   "cell_type": "code",
   "execution_count": 173,
   "metadata": {},
   "outputs": [
    {
     "data": {
      "text/plain": [
       "0.029486331569664858"
      ]
     },
     "execution_count": 173,
     "metadata": {},
     "output_type": "execute_result"
    }
   ],
   "source": [
    "matrix_x = np.dot(matrix, np.array(criteria_weight).transpose())\n",
    "lambda_max = sum([matrix_x[i]/criteria_weight[i] for i in range(len(criteria_weight))])/len(criteria_weight)\n",
    "cons_idx = (lambda_max-amount_kriteria)/(amount_kriteria)\n",
    "rand_idx = rand_idx_dict.get(amount_kriteria)\n",
    "cons_ratio = cons_idx/rand_idx\n",
    "cons_ratio"
   ]
  },
  {
   "cell_type": "code",
   "execution_count": 174,
   "metadata": {},
   "outputs": [
    {
     "data": {
      "text/plain": [
       "[0.6, 0.14, 0.2, 0.06]"
      ]
     },
     "execution_count": 174,
     "metadata": {},
     "output_type": "execute_result"
    }
   ],
   "source": [
    "criteria_weight"
   ]
  },
  {
   "cell_type": "code",
   "execution_count": 152,
   "metadata": {},
   "outputs": [
    {
     "data": {
      "text/plain": [
       "array([2, 3, 4, 0, 1], dtype=int64)"
      ]
     },
     "execution_count": 152,
     "metadata": {},
     "output_type": "execute_result"
    }
   ],
   "source": [
    "np.argsort(criteria_weight)"
   ]
  },
  {
   "cell_type": "code",
   "execution_count": 164,
   "metadata": {},
   "outputs": [],
   "source": [
    "import matplotlib.pyplot as plt"
   ]
  },
  {
   "cell_type": "code",
   "execution_count": 163,
   "metadata": {},
   "outputs": [
    {
     "ename": "NameError",
     "evalue": "name 'hist' is not defined",
     "output_type": "error",
     "traceback": [
      "\u001b[1;31m---------------------------------------------------------------------------\u001b[0m",
      "\u001b[1;31mNameError\u001b[0m                                 Traceback (most recent call last)",
      "Cell \u001b[1;32mIn[163], line 3\u001b[0m\n\u001b[0;32m      1\u001b[0m sort_krit_weight \u001b[38;5;241m=\u001b[39m np\u001b[38;5;241m.\u001b[39marray(criteria_weight)[np\u001b[38;5;241m.\u001b[39margsort(criteria_weight)]\u001b[38;5;241m.\u001b[39mtolist()\n\u001b[0;32m      2\u001b[0m sort_krit_inputs \u001b[38;5;241m=\u001b[39m np\u001b[38;5;241m.\u001b[39marray(kriteria_inputs)[np\u001b[38;5;241m.\u001b[39margsort(criteria_weight)]\u001b[38;5;241m.\u001b[39mtolist()\n\u001b[1;32m----> 3\u001b[0m \u001b[43mhist\u001b[49m\n",
      "\u001b[1;31mNameError\u001b[0m: name 'hist' is not defined"
     ]
    }
   ],
   "source": [
    "sort_krit_weight = np.array(criteria_weight)[np.argsort(criteria_weight)].tolist()\n",
    "sort_krit_inputs = np.array(kriteria_inputs)[np.argsort(criteria_weight)].tolist()\n",
    "plt.hist()"
   ]
  },
  {
   "cell_type": "code",
   "execution_count": 105,
   "metadata": {},
   "outputs": [
    {
     "data": {
      "text/plain": [
       "array([0.96   , 1.68   , 0.36656])"
      ]
     },
     "execution_count": 105,
     "metadata": {},
     "output_type": "execute_result"
    }
   ],
   "source": [
    "tes_m = [[1,0.5,3],[2,1,4],[0.333,0.25,1]]\n",
    "tes_m = np.array(tes_m)\n",
    "np.dot(tes_m, np.array([0.32,0.56,0.12]).transpose())"
   ]
  },
  {
   "cell_type": "code",
   "execution_count": 17,
   "metadata": {},
   "outputs": [
    {
     "name": "stdout",
     "output_type": "stream",
     "text": [
      "[0, 1, 2]\n",
      "[0, 0, 2]\n",
      "[0, 0, 0]\n"
     ]
    }
   ],
   "source": [
    "def fill_upper_triangle(matrix, values):\n",
    "    if len(values) != len(matrix) - 1:\n",
    "        raise ValueError(\"Number of values should be one less than the size of the matrix diagonal.\")\n",
    "\n",
    "    n = len(matrix)\n",
    "    for i in range(n):\n",
    "        for j in range(i+1, n):\n",
    "            matrix[i][j] = values[j-1]\n",
    "\n",
    "# Example usage:\n",
    "matrix = [\n",
    "    [0, 0, 0],\n",
    "    [0, 0, 0],\n",
    "    [0, 0, 0]\n",
    "]\n",
    "\n",
    "values = [1, 2]\n",
    "fill_upper_triangle(matrix, values)\n",
    "\n",
    "# Print the filled matrix\n",
    "for row in matrix:\n",
    "    print(row)"
   ]
  },
  {
   "cell_type": "code",
   "execution_count": null,
   "metadata": {},
   "outputs": [],
   "source": [
    "for i in range()"
   ]
  }
 ],
 "metadata": {
  "kernelspec": {
   "display_name": "Python 3",
   "language": "python",
   "name": "python3"
  },
  "language_info": {
   "codemirror_mode": {
    "name": "ipython",
    "version": 3
   },
   "file_extension": ".py",
   "mimetype": "text/x-python",
   "name": "python",
   "nbconvert_exporter": "python",
   "pygments_lexer": "ipython3",
   "version": "3.10.0"
  }
 },
 "nbformat": 4,
 "nbformat_minor": 2
}
